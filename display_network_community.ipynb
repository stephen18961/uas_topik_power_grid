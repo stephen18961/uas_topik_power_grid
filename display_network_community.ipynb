{
 "cells": [
  {
   "cell_type": "code",
   "execution_count": 2,
   "metadata": {},
   "outputs": [
    {
     "name": "stdout",
     "output_type": "stream",
     "text": [
      "Number of nodes: 4941\n",
      "Number of edges: 6594\n",
      "Number of communities: 40\n",
      "Warning: When  cdn_resources is 'local' jupyter notebook has issues displaying graphics on chrome/safari. Use cdn_resources='in_line' or cdn_resources='remote' if you have issues viewing graphics in a notebook.\n",
      "power_network_communities1.html\n"
     ]
    },
    {
     "data": {
      "text/html": [
       "\n",
       "        <iframe\n",
       "            width=\"100%\"\n",
       "            height=\"750px\"\n",
       "            src=\"power_network_communities1.html\"\n",
       "            frameborder=\"0\"\n",
       "            allowfullscreen\n",
       "            \n",
       "        ></iframe>\n",
       "        "
      ],
      "text/plain": [
       "<IPython.lib.display.IFrame at 0x1e87f823390>"
      ]
     },
     "execution_count": 2,
     "metadata": {},
     "output_type": "execute_result"
    }
   ],
   "source": [
    "import networkx as nx\n",
    "from pyvis.network import Network\n",
    "from community import community_louvain  # Install with `pip install python-louvain`\n",
    "import matplotlib.colors as mcolors\n",
    "\n",
    "# Load the GML file\n",
    "file_path = \"data/power.gml\"\n",
    "G = nx.read_gml(file_path, label=None)\n",
    "\n",
    "# Display basic graph information\n",
    "print(f\"Number of nodes: {G.number_of_nodes()}\")\n",
    "print(f\"Number of edges: {G.number_of_edges()}\")\n",
    "\n",
    "# Detect communities using Louvain algorithm\n",
    "partition = community_louvain.best_partition(G)\n",
    "\n",
    "# Get unique communities and assign colors\n",
    "unique_communities = set(partition.values())\n",
    "print(f\"Number of communities: {len(unique_communities)}\")  # Print number of communities\n",
    "\n",
    "color_palette = list(mcolors.CSS4_COLORS.keys())[:len(unique_communities)]\n",
    "community_colors = {comm: color_palette[i] for i, comm in enumerate(unique_communities)}\n",
    "\n",
    "# Convert to Pyvis Network\n",
    "net = Network(notebook=True, height=\"750px\", width=\"100%\")\n",
    "\n",
    "# Set node properties\n",
    "for node, degree in G.degree():\n",
    "    community = partition[node]\n",
    "    color = community_colors[community]\n",
    "    net.add_node(\n",
    "        node,\n",
    "        size=degree * 2,  # Scale node size by degree\n",
    "        color=color,  # Set color based on community\n",
    "        title=f\"Node: {node}, Degree: {degree}, Community: {community}\",\n",
    "    )\n",
    "\n",
    "# Add edges\n",
    "for edge in G.edges():\n",
    "    net.add_edge(edge[0], edge[1])\n",
    "\n",
    "# Display with buttons and save\n",
    "net.show_buttons(filter_=['physics'])  # Add physics configuration button\n",
    "net.show(\"power_network_communities1.html\")"
   ]
  }
 ],
 "metadata": {
  "kernelspec": {
   "display_name": "Python 3",
   "language": "python",
   "name": "python3"
  },
  "language_info": {
   "codemirror_mode": {
    "name": "ipython",
    "version": 3
   },
   "file_extension": ".py",
   "mimetype": "text/x-python",
   "name": "python",
   "nbconvert_exporter": "python",
   "pygments_lexer": "ipython3",
   "version": "3.11.6"
  }
 },
 "nbformat": 4,
 "nbformat_minor": 2
}
